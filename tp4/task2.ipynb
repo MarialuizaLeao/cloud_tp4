{
  "cells": [
    {
      "cell_type": "markdown",
      "metadata": {
        "id": "view-in-github",
        "colab_type": "text"
      },
      "source": [
        "<a href=\"https://colab.research.google.com/github/MarialuizaLeao/cloud_tp4/blob/main/tp4/task2.ipynb\" target=\"_parent\"><img src=\"https://colab.research.google.com/assets/colab-badge.svg\" alt=\"Open In Colab\"/></a>"
      ]
    },
    {
      "cell_type": "markdown",
      "metadata": {
        "id": "5iFoDR2CUwt2"
      },
      "source": [
        "# Project 4: Data Lake Modeling\n",
        "\n",
        "> Gabriel Lima Barros - 2020006531\n",
        ">\n",
        ">\n",
        "> Maria Luiza Leão Silva - 2020100953"
      ]
    },
    {
      "cell_type": "code",
      "execution_count": null,
      "metadata": {
        "id": "WLKfcotaUwuB"
      },
      "outputs": [],
      "source": [
        "import pyspark\n",
        "from pyspark.sql import SparkSession\n",
        "from pyspark.sql.functions import when,col\n",
        "\n",
        "\n",
        "spark = SparkSession.builder \\\n",
        "    .appName(\"spotify-datalake\") \\\n",
        "    .config(\"spark.jars.packages\", \"io.delta:delta-core_2.13:2.0.0\") \\\n",
        "    .config(\"spark.sql.extensions\", \"io.delta.sql.DeltaSparkSessionExtension\") \\\n",
        "    .config(\"spark.sql.catalog.spark_catalog\", \"org.apache.spark.sql.delta.catalog.DeltaCatalog\") \\\n",
        "    .config(\"spark.executor.instances\", \"2\") \\\n",
        "    .config(\"spark.executor.cores\", \"2\") \\\n",
        "    .config(\"spark.executor.memory\", \"1024M\") \\\n",
        "    .getOrCreate()\n",
        "\n",
        "spark.sparkContext.setLogLevel(\"WARN\")\n",
        "sc = spark.sparkContext"
      ]
    },
    {
      "cell_type": "markdown",
      "metadata": {
        "id": "hqHPVy32UwuE"
      },
      "source": [
        "## Task 2: Data Pipeline"
      ]
    },
    {
      "cell_type": "markdown",
      "metadata": {
        "id": "jV_1zurTUwuF"
      },
      "source": [
        "### Ingest v2"
      ]
    },
    {
      "cell_type": "code",
      "execution_count": null,
      "metadata": {
        "id": "dcSc3_-tUwuF",
        "outputId": "b8e96988-7975-481f-f06a-b787560ee545"
      },
      "outputs": [
        {
          "name": "stdout",
          "output_type": "stream",
          "text": [
            "/shared/sampled/playlists_v2.json /shared/sampled/tracks_v2.json\n",
            ":: loading settings :: url = jar:file:/opt/spark-3.4.2-bin-hadoop3-scala2.13/jars/ivy-2.5.1.jar!/org/apache/ivy/core/settings/ivysettings.xml\n",
            "Ivy Default Cache set to: /home/mariasilva/.ivy2/cache\n",
            "The jars for the packages stored in: /home/mariasilva/.ivy2/jars\n",
            "io.delta#delta-core_2.13 added as a dependency\n",
            ":: resolving dependencies :: org.apache.spark#spark-submit-parent-12b769b0-dda4-4fde-8d2b-5a8972dfeea8;1.0\n",
            "\tconfs: [default]\n",
            "\tfound io.delta#delta-core_2.13;2.0.0 in central\n",
            "\tfound io.delta#delta-storage;2.0.0 in central\n",
            "\tfound org.antlr#antlr4-runtime;4.8 in central\n",
            "\tfound org.codehaus.jackson#jackson-core-asl;1.9.13 in central\n",
            ":: resolution report :: resolve 376ms :: artifacts dl 8ms\n",
            "\t:: modules in use:\n",
            "\tio.delta#delta-core_2.13;2.0.0 from central in [default]\n",
            "\tio.delta#delta-storage;2.0.0 from central in [default]\n",
            "\torg.antlr#antlr4-runtime;4.8 from central in [default]\n",
            "\torg.codehaus.jackson#jackson-core-asl;1.9.13 from central in [default]\n",
            "\t---------------------------------------------------------------------\n",
            "\t|                  |            modules            ||   artifacts   |\n",
            "\t|       conf       | number| search|dwnlded|evicted|| number|dwnlded|\n",
            "\t---------------------------------------------------------------------\n",
            "\t|      default     |   4   |   0   |   0   |   0   ||   4   |   0   |\n",
            "\t---------------------------------------------------------------------\n",
            ":: retrieving :: org.apache.spark#spark-submit-parent-12b769b0-dda4-4fde-8d2b-5a8972dfeea8\n",
            "\tconfs: [default]\n",
            "\t0 artifacts copied, 4 already retrieved (0kB/6ms)\n",
            "25/02/04 22:52:28 WARN NativeCodeLoader: Unable to load native-hadoop library for your platform... using builtin-java classes where applicable\n",
            "Setting default log level to \"WARN\".\n",
            "To adjust logging level use sc.setLogLevel(newLevel). For SparkR, use setLogLevel(newLevel).\n",
            "25/02/04 22:52:29 WARN Utils: Service 'SparkUI' could not bind on port 4060. Attempting port 4061.\n",
            "------------------------                                                        \n",
            "Total: 49.458\n",
            "------------------------\n",
            "Gold layer: 10.297\n",
            "------------------------\n",
            "Silver layer: 25.898\n",
            "------------------------\n",
            "Bronze layer storage: 44.64 mb\n",
            "Silver layer storage: 99.6 mb\n",
            "Gold layer storage: 20.56 mb\n",
            "Total storage: 164.79 mb\n"
          ]
        }
      ],
      "source": [
        "! python3 /home/mariasilva/tp4/merge_new_info.py"
      ]
    },
    {
      "cell_type": "markdown",
      "metadata": {
        "id": "j2aPo282UwuH"
      },
      "source": [
        "### Apply the update to playlist 11992"
      ]
    },
    {
      "cell_type": "code",
      "execution_count": null,
      "metadata": {
        "id": "gl0ScFjaUwuI",
        "outputId": "7eb8f70b-a105-4344-a61d-a61995cc3c3d"
      },
      "outputs": [
        {
          "name": "stdout",
          "output_type": "stream",
          "text": [
            "+-------------+-----------+-----------+-----+\n",
            "|collaborative|description|       name|  pid|\n",
            "+-------------+-----------+-----------+-----+\n",
            "|         True|       null|GYM WORKOUT|11992|\n",
            "+-------------+-----------+-----------+-----+\n",
            "\n"
          ]
        }
      ],
      "source": [
        "# Modifing db\n",
        "sample_playlist_v2 = '/shared/sampled/playlists_v2.json'\n",
        "sample_tracks_v2 = '/shared/sampled/tracks_v2.json'\n",
        "playlist_v2_df = spark.read.json(sample_playlist_v2)\n",
        "playlist_v2_df = playlist_v2_df.withColumn(\n",
        "    \"name\",\n",
        "    when(playlist_v2_df[\"pid\"] == 11992, \"GYM WORKOUT\")  # Novo nome\n",
        "    .otherwise(playlist_v2_df[\"name\"])  # Mantém os outros valores inalterados\n",
        ").withColumn(\n",
        "    \"collaborative\",\n",
        "    when(playlist_v2_df[\"pid\"] == 11992, \"True\")  # Atualiza para True\n",
        "    .otherwise(playlist_v2_df[\"collaborative\"])\n",
        ")\n",
        "playlist_v2_df.filter(playlist_v2_df[\"pid\"] == 11992).show()\n",
        "playlist_v2_df.write.format(\"json\").mode(\"overwrite\").save(\"/home/mariasilva/tp4/modified_playlists_v2.json\")"
      ]
    },
    {
      "cell_type": "code",
      "execution_count": null,
      "metadata": {
        "id": "EdL2ThrWUwuK",
        "outputId": "56be722d-fe8f-4ec0-cc96-ee3d723fee57"
      },
      "outputs": [
        {
          "name": "stdout",
          "output_type": "stream",
          "text": [
            "/home/mariasilva/tp4/modified_playlists_v2.json /shared/sampled/tracks_v2.json\n",
            ":: loading settings :: url = jar:file:/opt/spark-3.4.2-bin-hadoop3-scala2.13/jars/ivy-2.5.1.jar!/org/apache/ivy/core/settings/ivysettings.xml\n",
            "Ivy Default Cache set to: /home/mariasilva/.ivy2/cache\n",
            "The jars for the packages stored in: /home/mariasilva/.ivy2/jars\n",
            "io.delta#delta-core_2.13 added as a dependency\n",
            ":: resolving dependencies :: org.apache.spark#spark-submit-parent-98330d67-bd16-4902-b0cb-524c29c6a0bb;1.0\n",
            "\tconfs: [default]\n",
            "\tfound io.delta#delta-core_2.13;2.0.0 in central\n",
            "\tfound io.delta#delta-storage;2.0.0 in central\n",
            "\tfound org.antlr#antlr4-runtime;4.8 in central\n",
            "\tfound org.codehaus.jackson#jackson-core-asl;1.9.13 in central\n",
            ":: resolution report :: resolve 182ms :: artifacts dl 7ms\n",
            "\t:: modules in use:\n",
            "\tio.delta#delta-core_2.13;2.0.0 from central in [default]\n",
            "\tio.delta#delta-storage;2.0.0 from central in [default]\n",
            "\torg.antlr#antlr4-runtime;4.8 from central in [default]\n",
            "\torg.codehaus.jackson#jackson-core-asl;1.9.13 from central in [default]\n",
            "\t---------------------------------------------------------------------\n",
            "\t|                  |            modules            ||   artifacts   |\n",
            "\t|       conf       | number| search|dwnlded|evicted|| number|dwnlded|\n",
            "\t---------------------------------------------------------------------\n",
            "\t|      default     |   4   |   0   |   0   |   0   ||   4   |   0   |\n",
            "\t---------------------------------------------------------------------\n",
            ":: retrieving :: org.apache.spark#spark-submit-parent-98330d67-bd16-4902-b0cb-524c29c6a0bb\n",
            "\tconfs: [default]\n",
            "\t0 artifacts copied, 4 already retrieved (0kB/5ms)\n",
            "25/02/04 23:01:13 WARN NativeCodeLoader: Unable to load native-hadoop library for your platform... using builtin-java classes where applicable\n",
            "Setting default log level to \"WARN\".\n",
            "To adjust logging level use sc.setLogLevel(newLevel). For SparkR, use setLogLevel(newLevel).\n",
            "25/02/04 23:01:14 WARN Utils: Service 'SparkUI' could not bind on port 4060. Attempting port 4061.\n",
            "------------------------                                                        \n",
            "Total: 28.583\n",
            "------------------------\n",
            "Gold layer: 5.565\n",
            "------------------------\n",
            "Silver layer: 13.670\n",
            "------------------------\n",
            "Bronze layer storage: 44.64 mb\n",
            "Silver layer storage: 99.62 mb\n",
            "Gold layer storage: 20.56 mb\n",
            "Total storage: 164.81 mb\n"
          ]
        }
      ],
      "source": [
        "! python3 /home/mariasilva/tp4/merge_new_info.py -p \"/home/mariasilva/tp4/modified_playlists_v2.json\" -t \"/shared/sampled/tracks_v2.json\""
      ]
    },
    {
      "cell_type": "code",
      "execution_count": null,
      "metadata": {
        "id": "7WWon0i3UwuL",
        "outputId": "80d08dad-a01c-4735-cf21-41f77311f4dd"
      },
      "outputs": [
        {
          "name": "stdout",
          "output_type": "stream",
          "text": [
            "Silver layer:\n",
            "+-----------+-----------+-----------+-------------+\n",
            "|playlist_id|       name|description|collaborative|\n",
            "+-----------+-----------+-----------+-------------+\n",
            "|      11992|GYM WORKOUT|       null|         True|\n",
            "+-----------+-----------+-----------+-------------+\n",
            "\n",
            "Gold layer:\n",
            "+-----------+----------+-----------+----------+-----------------+-----------+-----------+-------------+\n",
            "|playlist_id|num_tracks|num_artists|num_albums|total_duration_ms|       name|description|collaborative|\n",
            "+-----------+----------+-----------+----------+-----------------+-----------+-----------+-------------+\n",
            "|      11992|        16|         16|        16|          3158997|GYM WORKOUT|       null|         True|\n",
            "+-----------+----------+-----------+----------+-----------------+-----------+-----------+-------------+\n",
            "\n"
          ]
        }
      ],
      "source": [
        "# Caminho do arquivo Parquet\n",
        "silver_playlist_path = \"/home/mariasilva/datalake/silver\"\n",
        "\n",
        "# Lendo os dados existentes\n",
        "df = spark.read.format(\"parquet\").load(f\"{silver_playlist_path}/playlists\")\n",
        "\n",
        "print(\"Silver layer:\")\n",
        "df.filter(df[\"playlist_id\"] == 11992).show()\n",
        "\n",
        "gold_playlist_path = \"/home/mariasilva/datalake/gold\"\n",
        "\n",
        "# Lendo os dados existentes\n",
        "df = spark.read.format(\"parquet\").load(f\"{gold_playlist_path}/playlists\")\n",
        "\n",
        "print(\"Gold layer:\")\n",
        "df.filter(df[\"playlist_id\"] == 11992).show()"
      ]
    },
    {
      "cell_type": "markdown",
      "metadata": {
        "id": "TlOqM-VCUwuN"
      },
      "source": [
        "### Ingest v3"
      ]
    },
    {
      "cell_type": "code",
      "execution_count": null,
      "metadata": {
        "id": "uqvplfA_UwuP",
        "outputId": "5af680dc-2bf0-44a1-fc82-d99497c780bf"
      },
      "outputs": [
        {
          "name": "stdout",
          "output_type": "stream",
          "text": [
            "/shared/sampled/playlists_v3.json /shared/sampled/tracks_v3.json\n",
            ":: loading settings :: url = jar:file:/opt/spark-3.4.2-bin-hadoop3-scala2.13/jars/ivy-2.5.1.jar!/org/apache/ivy/core/settings/ivysettings.xml\n",
            "Ivy Default Cache set to: /home/mariasilva/.ivy2/cache\n",
            "The jars for the packages stored in: /home/mariasilva/.ivy2/jars\n",
            "io.delta#delta-core_2.13 added as a dependency\n",
            ":: resolving dependencies :: org.apache.spark#spark-submit-parent-29f6dc0e-cc16-4841-833d-061439d4b937;1.0\n",
            "\tconfs: [default]\n",
            "\tfound io.delta#delta-core_2.13;2.0.0 in central\n",
            "\tfound io.delta#delta-storage;2.0.0 in central\n",
            "\tfound org.antlr#antlr4-runtime;4.8 in central\n",
            "\tfound org.codehaus.jackson#jackson-core-asl;1.9.13 in central\n",
            ":: resolution report :: resolve 228ms :: artifacts dl 6ms\n",
            "\t:: modules in use:\n",
            "\tio.delta#delta-core_2.13;2.0.0 from central in [default]\n",
            "\tio.delta#delta-storage;2.0.0 from central in [default]\n",
            "\torg.antlr#antlr4-runtime;4.8 from central in [default]\n",
            "\torg.codehaus.jackson#jackson-core-asl;1.9.13 from central in [default]\n",
            "\t---------------------------------------------------------------------\n",
            "\t|                  |            modules            ||   artifacts   |\n",
            "\t|       conf       | number| search|dwnlded|evicted|| number|dwnlded|\n",
            "\t---------------------------------------------------------------------\n",
            "\t|      default     |   4   |   0   |   0   |   0   ||   4   |   0   |\n",
            "\t---------------------------------------------------------------------\n",
            ":: retrieving :: org.apache.spark#spark-submit-parent-29f6dc0e-cc16-4841-833d-061439d4b937\n",
            "\tconfs: [default]\n",
            "\t0 artifacts copied, 4 already retrieved (0kB/6ms)\n",
            "25/02/04 23:02:08 WARN NativeCodeLoader: Unable to load native-hadoop library for your platform... using builtin-java classes where applicable\n",
            "Setting default log level to \"WARN\".\n",
            "To adjust logging level use sc.setLogLevel(newLevel). For SparkR, use setLogLevel(newLevel).\n",
            "25/02/04 23:02:09 WARN Utils: Service 'SparkUI' could not bind on port 4060. Attempting port 4061.\n",
            "------------------------                                                        \n",
            "Total: 31.003\n",
            "------------------------\n",
            "Gold layer: 7.557\n",
            "------------------------\n",
            "Silver layer: 15.031\n",
            "------------------------\n",
            "Bronze layer storage: 44.64 mb\n",
            "Silver layer storage: 124.02 mb\n",
            "Gold layer storage: 24.74 mb\n",
            "Total storage: 193.41 mb\n"
          ]
        }
      ],
      "source": [
        "! python3 /home/mariasilva/tp4/merge_new_info.py -p \"/shared/sampled/playlists_v3.json\" -t \"/shared/sampled/tracks_v3.json\""
      ]
    },
    {
      "cell_type": "markdown",
      "metadata": {
        "id": "HJNVmvZkUwuQ"
      },
      "source": [
        "### Challenges and Limitations\n",
        "While processing the new data samples, the following difficulties were encountered:\n",
        "\n",
        "1. Incremental Updates:\n",
        "\n",
        "Since Parquet does not support native row-level updates, modifying individual records requires reading and rewriting the entire dataset.\n",
        "\n",
        "2. Duplicate Management:\n",
        "\n",
        "Ensuring that duplicate records were not introduced while merging v2 and v3 data with v1 required careful handling of unique identifiers (track_uri, playlist_id).\n",
        "\n",
        "3. Storage Efficiency:\n",
        "\n",
        "While Parquet is more efficient than JSON, handling large-scale updates can still introduce overhead due to file rewrites."
      ]
    }
  ],
  "metadata": {
    "kernelspec": {
      "display_name": "Python 3 (ipykernel)",
      "language": "python",
      "name": "python3"
    },
    "language_info": {
      "codemirror_mode": {
        "name": "ipython",
        "version": 3
      },
      "file_extension": ".py",
      "mimetype": "text/x-python",
      "name": "python",
      "nbconvert_exporter": "python",
      "pygments_lexer": "ipython3",
      "version": "3.11.2"
    },
    "colab": {
      "provenance": [],
      "include_colab_link": true
    }
  },
  "nbformat": 4,
  "nbformat_minor": 0
}