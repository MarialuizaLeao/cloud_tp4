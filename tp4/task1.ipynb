{
 "cells": [
  {
   "cell_type": "markdown",
   "metadata": {},
   "source": [
    "# Project 4: Data Lake Modeling\n",
    "\n",
    "> Gabriel Lima Barros -\n",
    ">\n",
    "> \n",
    "> Maria Luiza Leão Silva - 2020100953"
   ]
  },
  {
   "cell_type": "code",
   "execution_count": 1,
   "metadata": {},
   "outputs": [
    {
     "name": "stdout",
     "output_type": "stream",
     "text": [
      ":: loading settings :: url = jar:file:/opt/spark-3.4.2-bin-hadoop3-scala2.13/jars/ivy-2.5.1.jar!/org/apache/ivy/core/settings/ivysettings.xml\n"
     ]
    },
    {
     "name": "stderr",
     "output_type": "stream",
     "text": [
      "Ivy Default Cache set to: /home/mariasilva/.ivy2/cache\n",
      "The jars for the packages stored in: /home/mariasilva/.ivy2/jars\n",
      "io.delta#delta-core_2.13 added as a dependency\n",
      ":: resolving dependencies :: org.apache.spark#spark-submit-parent-bc7eac20-d982-48d6-b4ac-16774be9f93e;1.0\n",
      "\tconfs: [default]\n",
      "\tfound io.delta#delta-core_2.13;2.0.0 in central\n",
      "\tfound io.delta#delta-storage;2.0.0 in central\n",
      "\tfound org.antlr#antlr4-runtime;4.8 in central\n",
      "\tfound org.codehaus.jackson#jackson-core-asl;1.9.13 in central\n",
      ":: resolution report :: resolve 230ms :: artifacts dl 8ms\n",
      "\t:: modules in use:\n",
      "\tio.delta#delta-core_2.13;2.0.0 from central in [default]\n",
      "\tio.delta#delta-storage;2.0.0 from central in [default]\n",
      "\torg.antlr#antlr4-runtime;4.8 from central in [default]\n",
      "\torg.codehaus.jackson#jackson-core-asl;1.9.13 from central in [default]\n",
      "\t---------------------------------------------------------------------\n",
      "\t|                  |            modules            ||   artifacts   |\n",
      "\t|       conf       | number| search|dwnlded|evicted|| number|dwnlded|\n",
      "\t---------------------------------------------------------------------\n",
      "\t|      default     |   4   |   0   |   0   |   0   ||   4   |   0   |\n",
      "\t---------------------------------------------------------------------\n",
      ":: retrieving :: org.apache.spark#spark-submit-parent-bc7eac20-d982-48d6-b4ac-16774be9f93e\n",
      "\tconfs: [default]\n",
      "\t0 artifacts copied, 4 already retrieved (0kB/6ms)\n",
      "25/02/04 22:26:13 WARN NativeCodeLoader: Unable to load native-hadoop library for your platform... using builtin-java classes where applicable\n",
      "Setting default log level to \"WARN\".\n",
      "To adjust logging level use sc.setLogLevel(newLevel). For SparkR, use setLogLevel(newLevel).\n",
      "25/02/04 22:26:14 WARN Utils: Service 'SparkUI' could not bind on port 4040. Attempting port 4041.\n",
      "25/02/04 22:26:14 WARN Utils: Service 'SparkUI' could not bind on port 4041. Attempting port 4042.\n",
      "25/02/04 22:26:14 WARN Utils: Service 'SparkUI' could not bind on port 4042. Attempting port 4043.\n",
      "25/02/04 22:26:14 WARN Utils: Service 'SparkUI' could not bind on port 4043. Attempting port 4044.\n",
      "25/02/04 22:26:14 WARN Utils: Service 'SparkUI' could not bind on port 4044. Attempting port 4045.\n",
      "25/02/04 22:26:14 WARN Utils: Service 'SparkUI' could not bind on port 4045. Attempting port 4046.\n",
      "25/02/04 22:26:14 WARN Utils: Service 'SparkUI' could not bind on port 4046. Attempting port 4047.\n",
      "25/02/04 22:26:14 WARN Utils: Service 'SparkUI' could not bind on port 4047. Attempting port 4048.\n",
      "25/02/04 22:26:14 WARN Utils: Service 'SparkUI' could not bind on port 4048. Attempting port 4049.\n",
      "25/02/04 22:26:14 WARN Utils: Service 'SparkUI' could not bind on port 4049. Attempting port 4050.\n",
      "25/02/04 22:26:14 WARN Utils: Service 'SparkUI' could not bind on port 4050. Attempting port 4051.\n",
      "25/02/04 22:26:14 WARN Utils: Service 'SparkUI' could not bind on port 4051. Attempting port 4052.\n",
      "25/02/04 22:26:14 WARN Utils: Service 'SparkUI' could not bind on port 4052. Attempting port 4053.\n"
     ]
    }
   ],
   "source": [
    "import pyspark\n",
    "from pyspark.sql import SparkSession\n",
    "\n",
    "spark = SparkSession.builder \\\n",
    "    .appName(\"spotify-datalake\") \\\n",
    "    .config(\"spark.jars.packages\", \"io.delta:delta-core_2.13:2.0.0\") \\\n",
    "    .config(\"spark.sql.extensions\", \"io.delta.sql.DeltaSparkSessionExtension\") \\\n",
    "    .config(\"spark.sql.catalog.spark_catalog\", \"org.apache.spark.sql.delta.catalog.DeltaCatalog\") \\\n",
    "    .config(\"spark.executor.instances\", \"2\") \\\n",
    "    .config(\"spark.executor.cores\", \"2\") \\\n",
    "    .config(\"spark.executor.memory\", \"1024M\") \\\n",
    "    .getOrCreate()\n",
    "\n",
    "spark.sparkContext.setLogLevel(\"WARN\")\n",
    "sc = spark.sparkContext"
   ]
  },
  {
   "cell_type": "markdown",
   "metadata": {},
   "source": [
    "## Task 1: Data Modeling"
   ]
  },
  {
   "cell_type": "markdown",
   "metadata": {},
   "source": [
    "### Running implementation"
   ]
  },
  {
   "cell_type": "code",
   "execution_count": 26,
   "metadata": {},
   "outputs": [
    {
     "name": "stdout",
     "output_type": "stream",
     "text": [
      ":: loading settings :: url = jar:file:/opt/spark-3.4.2-bin-hadoop3-scala2.13/jars/ivy-2.5.1.jar!/org/apache/ivy/core/settings/ivysettings.xml\n",
      "Ivy Default Cache set to: /home/mariasilva/.ivy2/cache\n",
      "The jars for the packages stored in: /home/mariasilva/.ivy2/jars\n",
      "io.delta#delta-core_2.13 added as a dependency\n",
      ":: resolving dependencies :: org.apache.spark#spark-submit-parent-bcdba4b5-271e-4078-aea6-920d21c2a6ea;1.0\n",
      "\tconfs: [default]\n",
      "\tfound io.delta#delta-core_2.13;2.0.0 in central\n",
      "\tfound io.delta#delta-storage;2.0.0 in central\n",
      "\tfound org.antlr#antlr4-runtime;4.8 in central\n",
      "\tfound org.codehaus.jackson#jackson-core-asl;1.9.13 in central\n",
      ":: resolution report :: resolve 259ms :: artifacts dl 6ms\n",
      "\t:: modules in use:\n",
      "\tio.delta#delta-core_2.13;2.0.0 from central in [default]\n",
      "\tio.delta#delta-storage;2.0.0 from central in [default]\n",
      "\torg.antlr#antlr4-runtime;4.8 from central in [default]\n",
      "\torg.codehaus.jackson#jackson-core-asl;1.9.13 from central in [default]\n",
      "\t---------------------------------------------------------------------\n",
      "\t|                  |            modules            ||   artifacts   |\n",
      "\t|       conf       | number| search|dwnlded|evicted|| number|dwnlded|\n",
      "\t---------------------------------------------------------------------\n",
      "\t|      default     |   4   |   0   |   0   |   0   ||   4   |   0   |\n",
      "\t---------------------------------------------------------------------\n",
      ":: retrieving :: org.apache.spark#spark-submit-parent-bcdba4b5-271e-4078-aea6-920d21c2a6ea\n",
      "\tconfs: [default]\n",
      "\t0 artifacts copied, 4 already retrieved (0kB/6ms)\n",
      "25/02/04 22:38:56 WARN NativeCodeLoader: Unable to load native-hadoop library for your platform... using builtin-java classes where applicable\n",
      "Setting default log level to \"WARN\".\n",
      "To adjust logging level use sc.setLogLevel(newLevel). For SparkR, use setLogLevel(newLevel).\n",
      "25/02/04 22:38:57 WARN Utils: Service 'SparkUI' could not bind on port 4040. Attempting port 4041.\n",
      "25/02/04 22:38:57 WARN Utils: Service 'SparkUI' could not bind on port 4041. Attempting port 4042.\n",
      "25/02/04 22:38:57 WARN Utils: Service 'SparkUI' could not bind on port 4042. Attempting port 4043.\n",
      "25/02/04 22:38:57 WARN Utils: Service 'SparkUI' could not bind on port 4043. Attempting port 4044.\n",
      "25/02/04 22:38:57 WARN Utils: Service 'SparkUI' could not bind on port 4044. Attempting port 4045.\n",
      "25/02/04 22:38:57 WARN Utils: Service 'SparkUI' could not bind on port 4045. Attempting port 4046.\n",
      "25/02/04 22:38:57 WARN Utils: Service 'SparkUI' could not bind on port 4046. Attempting port 4047.\n",
      "25/02/04 22:38:57 WARN Utils: Service 'SparkUI' could not bind on port 4047. Attempting port 4048.\n",
      "25/02/04 22:38:57 WARN Utils: Service 'SparkUI' could not bind on port 4048. Attempting port 4049.\n",
      "25/02/04 22:38:57 WARN Utils: Service 'SparkUI' could not bind on port 4049. Attempting port 4050.\n",
      "25/02/04 22:38:57 WARN Utils: Service 'SparkUI' could not bind on port 4050. Attempting port 4051.\n",
      "25/02/04 22:38:57 WARN Utils: Service 'SparkUI' could not bind on port 4051. Attempting port 4052.\n",
      "25/02/04 22:38:57 WARN Utils: Service 'SparkUI' could not bind on port 4052. Attempting port 4053.\n",
      "25/02/04 22:38:57 WARN Utils: Service 'SparkUI' could not bind on port 4053. Attempting port 4054.\n",
      "25/02/04 22:38:57 WARN Utils: Service 'SparkUI' could not bind on port 4054. Attempting port 4055.\n",
      "25/02/04 22:38:57 WARN Utils: Service 'SparkUI' could not bind on port 4055. Attempting port 4056.\n",
      "25/02/04 22:38:57 WARN Utils: Service 'SparkUI' could not bind on port 4056. Attempting port 4057.\n",
      "25/02/04 22:39:06 WARN MemoryManager: Total allocation exceeds 95.00% (1,020,054,720 bytes) of heap memory\n",
      "Scaling row group sizes to 95.00% for 8 writers\n",
      "25/02/04 22:39:08 WARN MemoryManager: Total allocation exceeds 95.00% (1,020,054,720 bytes) of heap memory\n",
      "Scaling row group sizes to 95.00% for 8 writers\n",
      "25/02/04 22:39:15 WARN MemoryManager: Total allocation exceeds 95.00% (1,020,054,720 bytes) of heap memory\n",
      "Scaling row group sizes to 95.00% for 8 writers\n",
      "25/02/04 22:39:18 WARN RowBasedKeyValueBatch: Calling spill() on RowBasedKeyValueBatch. Will not spill but return 0.\n",
      "25/02/04 22:39:18 WARN RowBasedKeyValueBatch: Calling spill() on RowBasedKeyValueBatch. Will not spill but return 0.\n",
      "25/02/04 22:39:18 WARN RowBasedKeyValueBatch: Calling spill() on RowBasedKeyValueBatch. Will not spill but return 0.\n",
      "25/02/04 22:39:18 WARN RowBasedKeyValueBatch: Calling spill() on RowBasedKeyValueBatch. Will not spill but return 0.\n",
      "25/02/04 22:39:18 WARN RowBasedKeyValueBatch: Calling spill() on RowBasedKeyValueBatch. Will not spill but return 0.\n",
      "25/02/04 22:39:18 WARN RowBasedKeyValueBatch: Calling spill() on RowBasedKeyValueBatch. Will not spill but return 0.\n",
      "25/02/04 22:39:31 WARN MemoryManager: Total allocation exceeds 95.00% (1,020,054,720 bytes) of heap memory\n",
      "Scaling row group sizes to 95.00% for 8 writers\n",
      "25/02/04 22:39:41 WARN MemoryManager: Total allocation exceeds 95.00% (1,020,054,720 bytes) of heap memory\n",
      "Scaling row group sizes to 95.00% for 8 writers\n",
      "------------------------                                                        \n",
      "Silver layer: Songs: 2.2422\n",
      "------------------------\n",
      "Silver layer: Albums: 2.8438\n",
      "------------------------\n",
      "Silver layer: Artists: 1.3319\n",
      "------------------------\n",
      "Silver layer: Playlists: 0.3993\n",
      "------------------------\n",
      "Silver layer: Playlists Tracks: 1.5118\n",
      "------------------------\n",
      "Gold layer: Playlists: 27.1944\n",
      "------------------------\n",
      "Gold layer: Playlists Tracks: 8.3291\n",
      "------------------------\n"
     ]
    }
   ],
   "source": [
    "! python3 /home/mariasilva/tp4/create_data_lake.py"
   ]
  },
  {
   "cell_type": "markdown",
   "metadata": {},
   "source": [
    "### Task 1A: Tables for the Silver and Gold Layers"
   ]
  },
  {
   "cell_type": "code",
   "execution_count": 3,
   "metadata": {},
   "outputs": [],
   "source": [
    "# Paths\n",
    "bronze_path = \"/home/mariasilva/datalake/bronze\"\n",
    "silver_path = \"/home/mariasilva/datalake/silver\"\n",
    "gold_path = \"/home/mariasilva/datalake/gold\"\n",
    "# Read layers\n",
    "bronze_playlists_df = spark.read.parquet(f\"{bronze_path}/playlists\")\n",
    "bronze_tracks_df = spark.read.parquet(f\"{bronze_path}/tracks\")\n",
    "silver_songs_df = spark.read.parquet(f\"{silver_path}/songs\")\n",
    "silver_albums_df = spark.read.parquet(f\"{silver_path}/albums\")\n",
    "silver_artists_df = spark.read.parquet(f\"{silver_path}/artists\")\n",
    "silver_playlists_df = spark.read.parquet(f\"{silver_path}/playlists\")\n",
    "silver_playlist_tracks_df = spark.read.parquet(f\"{silver_path}/playlist_tracks\")\n",
    "gold_playlists_df = spark.read.parquet(f\"{gold_path}/playlists\")\n",
    "gold_playlist_tracks_df = spark.read.parquet(f\"{gold_path}/playlist_tracks\")"
   ]
  },
  {
   "cell_type": "markdown",
   "metadata": {},
   "source": [
    "#### Bronze layer\n",
    "\n",
    "This layer contains raw JSON data ingested directly from the source without transformations. The files are stored as-is, ensuring historical traceability."
   ]
  },
  {
   "cell_type": "markdown",
   "metadata": {},
   "source": [
    "##### Playlists\n",
    "\n",
    "Raw playlist data from playlists_v1.json\n"
   ]
  },
  {
   "cell_type": "code",
   "execution_count": 4,
   "metadata": {},
   "outputs": [
    {
     "name": "stdout",
     "output_type": "stream",
     "text": [
      "root\n",
      " |-- collaborative: string (nullable = true)\n",
      " |-- description: string (nullable = true)\n",
      " |-- name: string (nullable = true)\n",
      " |-- pid: long (nullable = true)\n",
      "\n"
     ]
    }
   ],
   "source": [
    "bronze_playlists_df.printSchema()"
   ]
  },
  {
   "cell_type": "code",
   "execution_count": 5,
   "metadata": {},
   "outputs": [
    {
     "name": "stdout",
     "output_type": "stream",
     "text": [
      "+-------------+-----------+------------------+----+\n",
      "|collaborative|description|              name| pid|\n",
      "+-------------+-----------+------------------+----+\n",
      "|        false|       null|       Winter 2014|  26|\n",
      "|        false|       null|            groovy|  29|\n",
      "|        false|       null|             KILLA| 964|\n",
      "|        false|       null|       Country mix|1677|\n",
      "|        false|       null|            Disney|1806|\n",
      "|        false|       null|         Beep Boop|2040|\n",
      "|         true|       null| Spring Break 2015|2214|\n",
      "|        false|       null|oldies but goodies|2250|\n",
      "|        false|       null|           Why Not|2453|\n",
      "|        false|       null|               idk|2509|\n",
      "+-------------+-----------+------------------+----+\n",
      "only showing top 10 rows\n",
      "\n"
     ]
    }
   ],
   "source": [
    "bronze_playlists_df.show(10)"
   ]
  },
  {
   "cell_type": "markdown",
   "metadata": {},
   "source": [
    "##### Tracks\n",
    "\n",
    "tracks_bronze: Raw track data from tracks_v1.json"
   ]
  },
  {
   "cell_type": "code",
   "execution_count": 6,
   "metadata": {},
   "outputs": [
    {
     "name": "stdout",
     "output_type": "stream",
     "text": [
      "root\n",
      " |-- album_name: string (nullable = true)\n",
      " |-- album_uri: string (nullable = true)\n",
      " |-- artist_name: string (nullable = true)\n",
      " |-- artist_uri: string (nullable = true)\n",
      " |-- duration_ms: long (nullable = true)\n",
      " |-- pid: long (nullable = true)\n",
      " |-- pos: long (nullable = true)\n",
      " |-- track_name: string (nullable = true)\n",
      " |-- track_uri: string (nullable = true)\n",
      "\n"
     ]
    }
   ],
   "source": [
    "bronze_tracks_df.printSchema()"
   ]
  },
  {
   "cell_type": "code",
   "execution_count": 7,
   "metadata": {},
   "outputs": [
    {
     "name": "stdout",
     "output_type": "stream",
     "text": [
      "+--------------------+--------------------+-----------+--------------------+-----------+-----+---+--------------------+--------------------+\n",
      "|          album_name|           album_uri|artist_name|          artist_uri|duration_ms|  pid|pos|          track_name|           track_uri|\n",
      "+--------------------+--------------------+-----------+--------------------+-----------+-----+---+--------------------+--------------------+\n",
      "|       Teenage Dream|spotify:album:06S...| Katy Perry|spotify:artist:6j...|     230527|14382| 53|Last Friday Night...|spotify:track:3oH...|\n",
      "|       Teenage Dream|spotify:album:06S...| Katy Perry|spotify:artist:6j...|     233685|14382| 54|California Gurls ...|spotify:track:3f7...|\n",
      "|     The Eminem Show|spotify:album:1ft...|     Eminem|spotify:artist:7d...|     297893|14382| 55|    'Till I Collapse|spotify:track:6yr...|\n",
      "|           Woah Stop|spotify:album:5WY...|       98kb|spotify:artist:7f...|     150768|14382| 56|           Woah Stop|spotify:track:0sc...|\n",
      "|            Oxymoron|spotify:album:7Et...|ScHoolboy Q|spotify:artist:5I...|     278066|14382| 57|              Studio|spotify:track:29g...|\n",
      "|       Blank Face LP|spotify:album:0Yb...|ScHoolboy Q|spotify:artist:5I...|     285346|14382| 58|     Tookie Knows II|spotify:track:3mV...|\n",
      "|          Chill Bill|spotify:album:5qB...|  Rob $tone|spotify:artist:2h...|     177184|14382| 59|          Chill Bill|spotify:track:5uD...|\n",
      "|    Gangsta Memorial|spotify:album:63e...|     Eazy-E|spotify:artist:7B...|     332733|14382| 60|Real Muthaphuckki...|spotify:track:53B...|\n",
      "|            StéLouse|spotify:album:60B...|   StéLouse|spotify:artist:6k...|     246146|14391|  1|        Been So Long|spotify:track:5r7...|\n",
      "|Chasing Colors (f...|spotify:album:4Lp...| Marshmello|spotify:artist:64...|     195200|14391|  2|Chasing Colors (f...|spotify:track:1Vx...|\n",
      "+--------------------+--------------------+-----------+--------------------+-----------+-----+---+--------------------+--------------------+\n",
      "only showing top 10 rows\n",
      "\n"
     ]
    }
   ],
   "source": [
    "bronze_tracks_df.show(10)"
   ]
  },
  {
   "cell_type": "markdown",
   "metadata": {},
   "source": [
    "#### Silver layer\n",
    "\n",
    "The Silver layer restructures the raw data, ensuring consistency and efficiency for analytical queries. The data is cleaned, deduplicated, and transformed into a more structured format."
   ]
  },
  {
   "cell_type": "markdown",
   "metadata": {},
   "source": [
    "##### Song information table"
   ]
  },
  {
   "cell_type": "code",
   "execution_count": 8,
   "metadata": {},
   "outputs": [
    {
     "name": "stdout",
     "output_type": "stream",
     "text": [
      "root\n",
      " |-- track_name: string (nullable = true)\n",
      " |-- track_uri: string (nullable = true)\n",
      " |-- duration_ms: long (nullable = true)\n",
      " |-- album_uri: string (nullable = true)\n",
      " |-- artist_uri: string (nullable = true)\n",
      "\n"
     ]
    }
   ],
   "source": [
    "silver_songs_df.printSchema()"
   ]
  },
  {
   "cell_type": "code",
   "execution_count": 9,
   "metadata": {},
   "outputs": [
    {
     "name": "stdout",
     "output_type": "stream",
     "text": [
      "+--------------------+--------------------+-----------+--------------------+--------------------+\n",
      "|          track_name|           track_uri|duration_ms|           album_uri|          artist_uri|\n",
      "+--------------------+--------------------+-----------+--------------------+--------------------+\n",
      "|Last Friday Night...|spotify:track:3oH...|     230527|spotify:album:06S...|spotify:artist:6j...|\n",
      "|California Gurls ...|spotify:track:3f7...|     233685|spotify:album:06S...|spotify:artist:6j...|\n",
      "|    'Till I Collapse|spotify:track:6yr...|     297893|spotify:album:1ft...|spotify:artist:7d...|\n",
      "|           Woah Stop|spotify:track:0sc...|     150768|spotify:album:5WY...|spotify:artist:7f...|\n",
      "|              Studio|spotify:track:29g...|     278066|spotify:album:7Et...|spotify:artist:5I...|\n",
      "|     Tookie Knows II|spotify:track:3mV...|     285346|spotify:album:0Yb...|spotify:artist:5I...|\n",
      "|          Chill Bill|spotify:track:5uD...|     177184|spotify:album:5qB...|spotify:artist:2h...|\n",
      "|Real Muthaphuckki...|spotify:track:53B...|     332733|spotify:album:63e...|spotify:artist:7B...|\n",
      "|        Been So Long|spotify:track:5r7...|     246146|spotify:album:60B...|spotify:artist:6k...|\n",
      "|Chasing Colors (f...|spotify:track:1Vx...|     195200|spotify:album:4Lp...|spotify:artist:64...|\n",
      "+--------------------+--------------------+-----------+--------------------+--------------------+\n",
      "only showing top 10 rows\n",
      "\n"
     ]
    }
   ],
   "source": [
    "silver_songs_df.show(10)"
   ]
  },
  {
   "cell_type": "markdown",
   "metadata": {},
   "source": [
    "##### Album information table"
   ]
  },
  {
   "cell_type": "code",
   "execution_count": 10,
   "metadata": {},
   "outputs": [
    {
     "name": "stdout",
     "output_type": "stream",
     "text": [
      "root\n",
      " |-- album_uri: string (nullable = true)\n",
      " |-- album_name: string (nullable = true)\n",
      " |-- artist_uri: string (nullable = true)\n",
      "\n"
     ]
    }
   ],
   "source": [
    "silver_albums_df.printSchema()"
   ]
  },
  {
   "cell_type": "code",
   "execution_count": 11,
   "metadata": {},
   "outputs": [
    {
     "name": "stdout",
     "output_type": "stream",
     "text": [
      "+--------------------+--------------------+--------------------+\n",
      "|           album_uri|          album_name|          artist_uri|\n",
      "+--------------------+--------------------+--------------------+\n",
      "|spotify:album:0P0...|   Lost On The River|spotify:artist:2o...|\n",
      "|spotify:album:6mU...|       Back In Black|spotify:artist:71...|\n",
      "|spotify:album:6zV...|         Bag Raiders|spotify:artist:6f...|\n",
      "|spotify:album:6rl...|             Trouble|spotify:artist:0z...|\n",
      "|spotify:album:2UL...|Mickey Mouse Oper...|spotify:artist:3c...|\n",
      "|spotify:album:7vL...|    Folk Hop N' Roll|spotify:artist:3w...|\n",
      "|spotify:album:12p...|Mac and Devin Go ...|spotify:artist:7h...|\n",
      "|spotify:album:085...|          Jimmy Choo|spotify:artist:6P...|\n",
      "|spotify:album:17j...|       March Madness|spotify:artist:1R...|\n",
      "|spotify:album:6Dx...|Blake Shelton's B...|spotify:artist:1U...|\n",
      "+--------------------+--------------------+--------------------+\n",
      "only showing top 10 rows\n",
      "\n"
     ]
    }
   ],
   "source": [
    "silver_albums_df.show(10)"
   ]
  },
  {
   "cell_type": "markdown",
   "metadata": {},
   "source": [
    "##### Artist information table"
   ]
  },
  {
   "cell_type": "code",
   "execution_count": 12,
   "metadata": {},
   "outputs": [
    {
     "name": "stdout",
     "output_type": "stream",
     "text": [
      "root\n",
      " |-- artist_uri: string (nullable = true)\n",
      " |-- artist_name: string (nullable = true)\n",
      "\n"
     ]
    }
   ],
   "source": [
    "silver_artists_df.printSchema()"
   ]
  },
  {
   "cell_type": "code",
   "execution_count": 13,
   "metadata": {},
   "outputs": [
    {
     "name": "stdout",
     "output_type": "stream",
     "text": [
      "+--------------------+-----------------+\n",
      "|          artist_uri|      artist_name|\n",
      "+--------------------+-----------------+\n",
      "|spotify:artist:20...|        Dom Dolla|\n",
      "|spotify:artist:0d...| Barenaked Ladies|\n",
      "|spotify:artist:1a...|Chance The Rapper|\n",
      "|spotify:artist:6p...|       Chase Rice|\n",
      "|spotify:artist:1G...|  Christophe Beck|\n",
      "|spotify:artist:1x...|     Welshly Arms|\n",
      "|spotify:artist:51...|    The Perishers|\n",
      "|spotify:artist:3p...|       Tim Legend|\n",
      "|spotify:artist:7m...|    Flux Pavilion|\n",
      "|spotify:artist:6x...|    Anna Kendrick|\n",
      "+--------------------+-----------------+\n",
      "only showing top 10 rows\n",
      "\n"
     ]
    }
   ],
   "source": [
    "silver_artists_df.show(10)"
   ]
  },
  {
   "cell_type": "markdown",
   "metadata": {},
   "source": [
    "##### Playlist information table"
   ]
  },
  {
   "cell_type": "code",
   "execution_count": 14,
   "metadata": {},
   "outputs": [
    {
     "name": "stdout",
     "output_type": "stream",
     "text": [
      "root\n",
      " |-- playlist_id: long (nullable = true)\n",
      " |-- name: string (nullable = true)\n",
      " |-- collaborative: string (nullable = true)\n",
      " |-- description: string (nullable = true)\n",
      "\n"
     ]
    }
   ],
   "source": [
    "silver_playlists_df.printSchema()"
   ]
  },
  {
   "cell_type": "code",
   "execution_count": 15,
   "metadata": {},
   "outputs": [
    {
     "name": "stdout",
     "output_type": "stream",
     "text": [
      "+-----------+------------------+-------------+-----------+\n",
      "|playlist_id|              name|collaborative|description|\n",
      "+-----------+------------------+-------------+-----------+\n",
      "|         26|       Winter 2014|        false|       null|\n",
      "|         29|            groovy|        false|       null|\n",
      "|        964|             KILLA|        false|       null|\n",
      "|       1677|       Country mix|        false|       null|\n",
      "|       1806|            Disney|        false|       null|\n",
      "|       2040|         Beep Boop|        false|       null|\n",
      "|       2214| Spring Break 2015|         true|       null|\n",
      "|       2250|oldies but goodies|        false|       null|\n",
      "|       2453|           Why Not|        false|       null|\n",
      "|       2509|               idk|        false|       null|\n",
      "+-----------+------------------+-------------+-----------+\n",
      "only showing top 10 rows\n",
      "\n"
     ]
    }
   ],
   "source": [
    "silver_playlists_df.show(10)"
   ]
  },
  {
   "cell_type": "markdown",
   "metadata": {},
   "source": [
    "##### Playlist tracks information table"
   ]
  },
  {
   "cell_type": "code",
   "execution_count": 16,
   "metadata": {},
   "outputs": [
    {
     "name": "stdout",
     "output_type": "stream",
     "text": [
      "root\n",
      " |-- playlist_id: long (nullable = true)\n",
      " |-- track_uri: string (nullable = true)\n",
      " |-- album_uri: string (nullable = true)\n",
      " |-- artist_uri: string (nullable = true)\n",
      " |-- pos: long (nullable = true)\n",
      " |-- duration_ms: long (nullable = true)\n",
      "\n"
     ]
    }
   ],
   "source": [
    "silver_playlist_tracks_df.printSchema()"
   ]
  },
  {
   "cell_type": "code",
   "execution_count": 17,
   "metadata": {},
   "outputs": [
    {
     "name": "stdout",
     "output_type": "stream",
     "text": [
      "+-----------+--------------------+--------------------+--------------------+---+-----------+\n",
      "|playlist_id|           track_uri|           album_uri|          artist_uri|pos|duration_ms|\n",
      "+-----------+--------------------+--------------------+--------------------+---+-----------+\n",
      "|      14382|spotify:track:3oH...|spotify:album:06S...|spotify:artist:6j...| 53|     230527|\n",
      "|      14382|spotify:track:3f7...|spotify:album:06S...|spotify:artist:6j...| 54|     233685|\n",
      "|      14382|spotify:track:6yr...|spotify:album:1ft...|spotify:artist:7d...| 55|     297893|\n",
      "|      14382|spotify:track:0sc...|spotify:album:5WY...|spotify:artist:7f...| 56|     150768|\n",
      "|      14382|spotify:track:29g...|spotify:album:7Et...|spotify:artist:5I...| 57|     278066|\n",
      "|      14382|spotify:track:3mV...|spotify:album:0Yb...|spotify:artist:5I...| 58|     285346|\n",
      "|      14382|spotify:track:5uD...|spotify:album:5qB...|spotify:artist:2h...| 59|     177184|\n",
      "|      14382|spotify:track:53B...|spotify:album:63e...|spotify:artist:7B...| 60|     332733|\n",
      "|      14391|spotify:track:5r7...|spotify:album:60B...|spotify:artist:6k...|  1|     246146|\n",
      "|      14391|spotify:track:1Vx...|spotify:album:4Lp...|spotify:artist:64...|  2|     195200|\n",
      "+-----------+--------------------+--------------------+--------------------+---+-----------+\n",
      "only showing top 10 rows\n",
      "\n"
     ]
    }
   ],
   "source": [
    "silver_playlist_tracks_df.show(10)"
   ]
  },
  {
   "cell_type": "markdown",
   "metadata": {},
   "source": [
    "#### Gold layer\n",
    "The Gold layer consists of de-normalized tables optimized for reporting and analytical queries. These tables consolidate data and contain additional computed metrics for efficiency."
   ]
  },
  {
   "cell_type": "markdown",
   "metadata": {},
   "source": [
    "##### Playlist information aggregated table"
   ]
  },
  {
   "cell_type": "code",
   "execution_count": 18,
   "metadata": {},
   "outputs": [
    {
     "name": "stdout",
     "output_type": "stream",
     "text": [
      "root\n",
      " |-- playlist_id: long (nullable = true)\n",
      " |-- num_tracks: long (nullable = true)\n",
      " |-- num_artists: long (nullable = true)\n",
      " |-- num_albums: long (nullable = true)\n",
      " |-- total_duration_ms: long (nullable = true)\n",
      " |-- name: string (nullable = true)\n",
      " |-- collaborative: string (nullable = true)\n",
      " |-- description: string (nullable = true)\n",
      "\n"
     ]
    }
   ],
   "source": [
    "gold_playlists_df.printSchema()"
   ]
  },
  {
   "cell_type": "code",
   "execution_count": 19,
   "metadata": {},
   "outputs": [
    {
     "name": "stdout",
     "output_type": "stream",
     "text": [
      "+-----------+----------+-----------+----------+-----------------+----------------+-------------+-----------+\n",
      "|playlist_id|num_tracks|num_artists|num_albums|total_duration_ms|            name|collaborative|description|\n",
      "+-----------+----------+-----------+----------+-----------------+----------------+-------------+-----------+\n",
      "|        592|        35|         20|        30|          9378900|            2015|        false|       null|\n",
      "|       1250|         8|          8|         8|          1887520|        Electric|        false|       null|\n",
      "|       2572|        12|         11|        12|          2697512|Once Upon A Time|        false|       null|\n",
      "|       4389|         9|          5|         8|          2886891|    Gospel songs|        false|       null|\n",
      "|      11183|        29|         22|        28|          6059965|            👌🏽|        false|       null|\n",
      "|      11290|        52|         29|        44|         11259128|         country|        false|       null|\n",
      "|      11823|        36|         28|        34|          7353941|     old country|        false|       null|\n",
      "|      12100|        22|         22|        22|          4619810|     FrEe sPiRiT|        false|       null|\n",
      "|      12548|         8|          6|         8|          2033908|         Tattoo |        false|       null|\n",
      "|       1334|        28|         28|        28|          6926442|              my|        false|       null|\n",
      "|       3756|        19|         18|        19|          4436744|           Reign|        false|       null|\n",
      "|       4080|        25|         14|        21|          5742027|        explicit|        false|       null|\n",
      "|       4315|        22|         21|        21|          6074952|      Pool party|        false|       null|\n",
      "|      11058|        20|         12|        18|          5179770|       Sophomore|        false|       null|\n",
      "|       3137|        27|         25|        26|          5999836|         Running|        false|       null|\n",
      "|       1287|         9|          6|         9|          1947850|   Spanish Music|        false|       null|\n",
      "|      12871|         9|          7|         9|          2950151|             Fml|        false|       null|\n",
      "|      13015|        21|         17|        19|          5462260|          fiesta|        false|       null|\n",
      "|       2755|        15|         11|        15|          3078553|    Country rock|        false|       null|\n",
      "|      11275|         7|          6|         6|          1851721|             Yep|        false|       null|\n",
      "+-----------+----------+-----------+----------+-----------------+----------------+-------------+-----------+\n",
      "only showing top 20 rows\n",
      "\n"
     ]
    }
   ],
   "source": [
    "gold_playlists_df.show()"
   ]
  },
  {
   "cell_type": "markdown",
   "metadata": {},
   "source": [
    "##### Playlist tracks aggregated table"
   ]
  },
  {
   "cell_type": "code",
   "execution_count": 20,
   "metadata": {},
   "outputs": [
    {
     "name": "stdout",
     "output_type": "stream",
     "text": [
      "root\n",
      " |-- playlist_id: long (nullable = true)\n",
      " |-- pos: long (nullable = true)\n",
      " |-- track_name: string (nullable = true)\n",
      " |-- album_name: string (nullable = true)\n",
      " |-- artist_name: string (nullable = true)\n",
      "\n"
     ]
    }
   ],
   "source": [
    "gold_playlist_tracks_df.printSchema()"
   ]
  },
  {
   "cell_type": "code",
   "execution_count": 21,
   "metadata": {},
   "outputs": [
    {
     "name": "stdout",
     "output_type": "stream",
     "text": [
      "+-----------+---+--------------------+--------------------+---------------+\n",
      "|playlist_id|pos|          track_name|          album_name|    artist_name|\n",
      "+-----------+---+--------------------+--------------------+---------------+\n",
      "|      41586|  5|    Missing Missouri|Original Album Cl...|     Sara Evans|\n",
      "|      14617|  9|           Come Thru|           Come Thru|           TYuS|\n",
      "|     127174|  5|               Blame|             Rapture|        Tropics|\n",
      "|     149739|  4|              Illume|       International| Lust For Youth|\n",
      "|      39711|  3|    Heart-Shaped Box|    Heart-Shaped Box|      Dead Sara|\n",
      "|      14245| 33| You Saved Me (Live)|Isla Vista Worshi...|     Ryan Ellis|\n",
      "|     162467| 10|The New National ...|    Selfish Machines|Pierce The Veil|\n",
      "|      13899| 38|       Girar O Mundo|     Buddha-Bar XVII|  Pattern Drama|\n",
      "|      13899| 38|       Girar O Mundo|     Buddha-Bar XVII|  Pattern Drama|\n",
      "|      13899| 38|       Girar O Mundo|     Buddha-Bar XVII|  Pattern Drama|\n",
      "+-----------+---+--------------------+--------------------+---------------+\n",
      "only showing top 10 rows\n",
      "\n"
     ]
    }
   ],
   "source": [
    "gold_playlist_tracks_df.show(10)"
   ]
  },
  {
   "cell_type": "markdown",
   "metadata": {},
   "source": [
    "#### Data transformation\n",
    "\n",
    "The following transformations occur between layers:\n",
    "\n",
    "> Bronze → Silver:\n",
    "\n",
    "Extract relevant columns\n",
    "\n",
    "Remove duplicates\n",
    "\n",
    "Normalize relationships (splitting playlists, tracks, albums, and artists into separate tables)\n",
    "\n",
    "> Silver → Gold:\n",
    "\n",
    "Compute summary statistics (total duration, number of tracks, albums, artists, and edits)\n",
    "\n",
    "Join tables to create denormalized datasets for fast querying"
   ]
  },
  {
   "cell_type": "markdown",
   "metadata": {},
   "source": [
    "### Task 1B: Evaluate Parquet Performance"
   ]
  },
  {
   "cell_type": "markdown",
   "metadata": {},
   "source": [
    "JSON is flexible but inefficient for large-scale data processing due to lack of compression and indexing. In this task, we evaluate the performance of JSON vs. Parquet for time efficiency."
   ]
  },
  {
   "cell_type": "code",
   "execution_count": 24,
   "metadata": {},
   "outputs": [
    {
     "name": "stdout",
     "output_type": "stream",
     "text": [
      ":: loading settings :: url = jar:file:/opt/spark-3.4.2-bin-hadoop3-scala2.13/jars/ivy-2.5.1.jar!/org/apache/ivy/core/settings/ivysettings.xml\n",
      "Ivy Default Cache set to: /home/mariasilva/.ivy2/cache\n",
      "The jars for the packages stored in: /home/mariasilva/.ivy2/jars\n",
      "io.delta#delta-core_2.13 added as a dependency\n",
      ":: resolving dependencies :: org.apache.spark#spark-submit-parent-a20d8a37-f3e6-4922-859d-fa467ac611c9;1.0\n",
      "\tconfs: [default]\n",
      "\tfound io.delta#delta-core_2.13;2.0.0 in central\n",
      "\tfound io.delta#delta-storage;2.0.0 in central\n",
      "\tfound org.antlr#antlr4-runtime;4.8 in central\n",
      "\tfound org.codehaus.jackson#jackson-core-asl;1.9.13 in central\n",
      ":: resolution report :: resolve 184ms :: artifacts dl 6ms\n",
      "\t:: modules in use:\n",
      "\tio.delta#delta-core_2.13;2.0.0 from central in [default]\n",
      "\tio.delta#delta-storage;2.0.0 from central in [default]\n",
      "\torg.antlr#antlr4-runtime;4.8 from central in [default]\n",
      "\torg.codehaus.jackson#jackson-core-asl;1.9.13 from central in [default]\n",
      "\t---------------------------------------------------------------------\n",
      "\t|                  |            modules            ||   artifacts   |\n",
      "\t|       conf       | number| search|dwnlded|evicted|| number|dwnlded|\n",
      "\t---------------------------------------------------------------------\n",
      "\t|      default     |   4   |   0   |   0   |   0   ||   4   |   0   |\n",
      "\t---------------------------------------------------------------------\n",
      ":: retrieving :: org.apache.spark#spark-submit-parent-a20d8a37-f3e6-4922-859d-fa467ac611c9\n",
      "\tconfs: [default]\n",
      "\t0 artifacts copied, 4 already retrieved (0kB/5ms)\n",
      "25/02/04 22:29:44 WARN NativeCodeLoader: Unable to load native-hadoop library for your platform... using builtin-java classes where applicable\n",
      "Setting default log level to \"WARN\".\n",
      "To adjust logging level use sc.setLogLevel(newLevel). For SparkR, use setLogLevel(newLevel).\n",
      "25/02/04 22:29:45 WARN Utils: Service 'SparkUI' could not bind on port 4040. Attempting port 4041.\n",
      "25/02/04 22:29:45 WARN Utils: Service 'SparkUI' could not bind on port 4041. Attempting port 4042.\n",
      "25/02/04 22:29:45 WARN Utils: Service 'SparkUI' could not bind on port 4042. Attempting port 4043.\n",
      "25/02/04 22:29:45 WARN Utils: Service 'SparkUI' could not bind on port 4043. Attempting port 4044.\n",
      "25/02/04 22:29:45 WARN Utils: Service 'SparkUI' could not bind on port 4044. Attempting port 4045.\n",
      "25/02/04 22:29:45 WARN Utils: Service 'SparkUI' could not bind on port 4045. Attempting port 4046.\n",
      "25/02/04 22:29:45 WARN Utils: Service 'SparkUI' could not bind on port 4046. Attempting port 4047.\n",
      "25/02/04 22:29:45 WARN Utils: Service 'SparkUI' could not bind on port 4047. Attempting port 4048.\n",
      "25/02/04 22:29:45 WARN Utils: Service 'SparkUI' could not bind on port 4048. Attempting port 4049.\n",
      "25/02/04 22:29:45 WARN Utils: Service 'SparkUI' could not bind on port 4049. Attempting port 4050.\n",
      "25/02/04 22:29:45 WARN Utils: Service 'SparkUI' could not bind on port 4050. Attempting port 4051.\n",
      "25/02/04 22:29:45 WARN Utils: Service 'SparkUI' could not bind on port 4051. Attempting port 4052.\n",
      "25/02/04 22:29:45 WARN Utils: Service 'SparkUI' could not bind on port 4052. Attempting port 4053.\n",
      "25/02/04 22:29:45 WARN Utils: Service 'SparkUI' could not bind on port 4053. Attempting port 4054.\n",
      "25/02/04 22:29:45 WARN Utils: Service 'SparkUI' could not bind on port 4054. Attempting port 4055.\n",
      "25/02/04 22:29:45 WARN Utils: Service 'SparkUI' could not bind on port 4055. Attempting port 4056.\n",
      "25/02/04 22:29:45 WARN Utils: Service 'SparkUI' could not bind on port 4056. Attempting port 4057.\n",
      "25/02/04 22:29:58 WARN RowBasedKeyValueBatch: Calling spill() on RowBasedKeyValueBatch. Will not spill but return 0.\n",
      "25/02/04 22:29:58 WARN RowBasedKeyValueBatch: Calling spill() on RowBasedKeyValueBatch. Will not spill but return 0.\n",
      "25/02/04 22:29:58 WARN RowBasedKeyValueBatch: Calling spill() on RowBasedKeyValueBatch. Will not spill but return 0.\n",
      "25/02/04 22:29:58 WARN RowBasedKeyValueBatch: Calling spill() on RowBasedKeyValueBatch. Will not spill but return 0.\n",
      "25/02/04 22:29:58 WARN RowBasedKeyValueBatch: Calling spill() on RowBasedKeyValueBatch. Will not spill but return 0.\n",
      "25/02/04 22:29:58 WARN RowBasedKeyValueBatch: Calling spill() on RowBasedKeyValueBatch. Will not spill but return 0.\n",
      "25/02/04 22:29:59 WARN RowBasedKeyValueBatch: Calling spill() on RowBasedKeyValueBatch. Will not spill but return 0.\n",
      "------------------------                                                        \n",
      "Silver layer: Songs: 1.4743\n",
      "------------------------\n",
      "Silver layer: Albums: 1.8414\n",
      "------------------------\n",
      "Silver layer: Artists: 1.0657\n",
      "------------------------\n",
      "Silver layer: Playlists: 0.3566\n",
      "------------------------\n",
      "Silver layer: Playlists Tracks: 0.9414\n",
      "------------------------\n",
      "Gold layer: Playlists: 23.0245\n",
      "------------------------\n",
      "Gold layer: Playlists Tracks: 5.6793\n",
      "------------------------\n"
     ]
    }
   ],
   "source": [
    "# Running with json\n",
    "! python3 /home/mariasilva/tp4/create_data_lake.py -f json"
   ]
  },
  {
   "cell_type": "markdown",
   "metadata": {},
   "source": [
    "#### Results\n",
    "\n",
    "| - | Json | Parquet |\n",
    "| :- | -: | :-: |\n",
    "| Silver layer Songs | 1.4743 | 1.3657 |\n",
    "| Silver layer Albums | 1.8414 | 1.5082 |\n",
    "| Silver layer Artists | 1.0657 | 0.7723 |\n",
    "| Silver layer Playlists | 0.3566 | 0.2795 |\n",
    "| Silver layer Playlists Tracks | 0.9414 | 0.9134 |\n",
    "| Gold layer Playlists | 23.0245 | 20.6193 |\n",
    "| Gold layer Playlists Tracks | 5.6793 | 4.8391 |"
   ]
  },
  {
   "cell_type": "markdown",
   "metadata": {},
   "source": [
    "#### Conclusion\n",
    "\n",
    "By implementing a structured data modeling approach in the Data Lake using the Medallion Architecture, we ensure efficient data retrieval while maintaining raw data integrity. The Silver and Gold layers provide structured, optimized data ready for analytical queries. Our performance evaluation confirms that Parquet is a superior format compared to JSON, offering significant improvements in storage and query performance."
   ]
  }
 ],
 "metadata": {
  "kernelspec": {
   "display_name": "Python 3 (ipykernel)",
   "language": "python",
   "name": "python3"
  },
  "language_info": {
   "codemirror_mode": {
    "name": "ipython",
    "version": 3
   },
   "file_extension": ".py",
   "mimetype": "text/x-python",
   "name": "python",
   "nbconvert_exporter": "python",
   "pygments_lexer": "ipython3",
   "version": "3.11.2"
  }
 },
 "nbformat": 4,
 "nbformat_minor": 4
}
